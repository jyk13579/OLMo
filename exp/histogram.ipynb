{
 "cells": [
  {
   "cell_type": "code",
   "execution_count": null,
   "metadata": {},
   "outputs": [
    {
     "ename": "",
     "evalue": "",
     "output_type": "error",
     "traceback": [
      "\u001b[1;31mRunning cells with 'olmo (Python 3.9.19)' requires the ipykernel package.\n",
      "\u001b[1;31mRun the following command to install 'ipykernel' into the Python environment. \n",
      "\u001b[1;31mCommand: 'conda install -n olmo ipykernel --update-deps --force-reinstall'"
     ]
    }
   ],
   "source": [
    "import matplotlib.pyplot as plt\n",
    "import torch\n",
    "\n",
    "all_gold_probabilities = torch.load(\"checkpoints/pretrained/5000/gold_probabilities_next_1k.pt\")\n",
    "all_gold_probabilities = all_gold_probabilities.flot()\n",
    "# Assuming `all_gold_probabilities` is a tensor containing probability values\n",
    "num_bins = 100\n",
    "# Ensure tensor is on CPU before histogram calculation\n",
    "hist = torch.histc(all_gold_probabilities.cpu(), bins=num_bins, min=0, max=1)\n",
    "\n",
    "# Calculate bin edges\n",
    "bin_edges = torch.linspace(0, 1, steps=num_bins+1)\n",
    "\n",
    "# Since we need to use bin_edges for plotting, ensure it's on CPU and converted to NumPy\n",
    "bin_edges = bin_edges.cpu().numpy()\n",
    "\n",
    "# Midpoints of bins can serve as x-values for the bar graph (more precise representation)\n",
    "bin_centers = (bin_edges[:-1] + bin_edges[1:]) / 2\n",
    "\n",
    "# Plotting\n",
    "plt.figure(figsize=(10, 6))  # Define the size of the figure\n",
    "plt.bar(bin_centers, hist.cpu().numpy(), width=(1 / num_bins), align='center', alpha=0.7)\n",
    "plt.xlabel('Probability Bins')  # Label for the x-axis\n",
    "plt.ylabel('Counts')            # Label for the y-axis\n",
    "plt.title('Histogram of Gold Label Probabilities')  # Title of the graph\n",
    "plt.grid(True)                  # Enable grid for better readability\n",
    "plt.show()                      # Display the plot\n"
   ]
  }
 ],
 "metadata": {
  "kernelspec": {
   "display_name": "olmo",
   "language": "python",
   "name": "python3"
  },
  "language_info": {
   "name": "python",
   "version": "3.9.19"
  }
 },
 "nbformat": 4,
 "nbformat_minor": 2
}
